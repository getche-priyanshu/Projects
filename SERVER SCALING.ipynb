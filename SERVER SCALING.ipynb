{
 "cells": [
  {
   "cell_type": "code",
   "execution_count": 1,
   "id": "d4c9c9d9",
   "metadata": {},
   "outputs": [],
   "source": [
    "import boto3\n",
    "myec2 = boto3.resource(\"ec2\",\n",
    "                      region_name=\"ap-south-1\",\n",
    "    aws_access_key_id=\"********************\",\n",
    "    aws_secret_access_key=\"****************\"\n",
    "                      )"
   ]
  },
  {
   "cell_type": "code",
   "execution_count": 2,
   "id": "212513a0",
   "metadata": {},
   "outputs": [],
   "source": [
    "def launchOS():\n",
    "    response = myec2.create_instances(\n",
    "    ImageId=\"***********\",\n",
    "    InstanceType=\"t2.micro\",\n",
    "    MaxCount=1,\n",
    "    MinCount=1\n",
    ")\n",
    "    \n"
   ]
  },
  {
   "cell_type": "code",
   "execution_count": 3,
   "id": "28299ed9",
   "metadata": {},
   "outputs": [],
   "source": [
    "import cv2\n",
    "cap=cv2.VideoCapture(0)\n"
   ]
  },
  {
   "cell_type": "code",
   "execution_count": 4,
   "id": "d01cf041",
   "metadata": {},
   "outputs": [],
   "source": [
    "from cvzone.HandTrackingModule import HandDetector\n",
    "detector=HandDetector()"
   ]
  },
  {
   "cell_type": "code",
   "execution_count": 5,
   "id": "894a066b",
   "metadata": {},
   "outputs": [],
   "source": [
    "while True:\n",
    "    status,photo =cap.read()\n",
    "    cv2.imshow(\"my photo\", photo)\n",
    "    if cv2.waitKey(100)==13:\n",
    "        break\n",
    "    handphoto=detector.findHands(photo,draw=False)\n",
    "    if handphoto:\n",
    "        lmlist = handphoto[0]\n",
    "        fingerstatus = detector.fingersUp(lmlist)\n",
    "        if fingerstatus == [1,1,1,1,1]:\n",
    "            print(\"all up\")\n",
    "            launchOS()\n",
    "            launchOS()\n",
    "            launchOS()\n",
    "            launchOS()\n",
    "            launchOS()\n",
    "        elif fingerstatus == [ 0 ,1 ,0 , 0, 0]:\n",
    "            print(\"index finger up\")\n",
    "            launchOS()\n",
    "        elif fingerstatus == [ 0 , 1, 1, 0 , 0 ]:\n",
    "            print(\"index and middle finger up\")\n",
    "            launchOS()\n",
    "            launchOS()\n",
    "           \n",
    "    \n",
    "        else:\n",
    "            print(\"idk\")        \n",
    "    \n",
    "\n",
    "    \n",
    "\n"
   ]
  },
  {
   "cell_type": "code",
   "execution_count": 6,
   "id": "a85cf86c",
   "metadata": {},
   "outputs": [],
   "source": [
    "cv2.destroyAllWindows()"
   ]
  },
  {
   "cell_type": "code",
   "execution_count": 7,
   "id": "aa4ed56a",
   "metadata": {},
   "outputs": [],
   "source": [
    "cap.release()"
   ]
  },
  {
   "cell_type": "code",
   "execution_count": null,
   "id": "f70c2c30",
   "metadata": {},
   "outputs": [],
   "source": []
  },
  {
   "cell_type": "code",
   "execution_count": null,
   "id": "33f2cd5f",
   "metadata": {},
   "outputs": [],
   "source": []
  },
  {
   "cell_type": "code",
   "execution_count": null,
   "id": "92f87294",
   "metadata": {},
   "outputs": [],
   "source": []
  },
  {
   "cell_type": "code",
   "execution_count": null,
   "id": "3f0949f4",
   "metadata": {},
   "outputs": [],
   "source": []
  },
  {
   "cell_type": "code",
   "execution_count": null,
   "id": "bf763fc3",
   "metadata": {},
   "outputs": [],
   "source": []
  },
  {
   "cell_type": "code",
   "execution_count": null,
   "id": "2fd4ca4c",
   "metadata": {},
   "outputs": [],
   "source": []
  },
  {
   "cell_type": "code",
   "execution_count": null,
   "id": "08fd8bc4",
   "metadata": {},
   "outputs": [],
   "source": []
  }
 ],
 "metadata": {
  "kernelspec": {
   "display_name": "Python 3 (ipykernel)",
   "language": "python",
   "name": "python3"
  },
  "language_info": {
   "codemirror_mode": {
    "name": "ipython",
    "version": 3
   },
   "file_extension": ".py",
   "mimetype": "text/x-python",
   "name": "python",
   "nbconvert_exporter": "python",
   "pygments_lexer": "ipython3",
   "version": "3.11.3"
  }
 },
 "nbformat": 4,
 "nbformat_minor": 5
}
